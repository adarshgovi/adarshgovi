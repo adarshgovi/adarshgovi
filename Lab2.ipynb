{
  "nbformat": 4,
  "nbformat_minor": 0,
  "metadata": {
    "colab": {
      "provenance": [],
      "collapsed_sections": [],
      "mount_file_id": "1e3uWroF6suZ8nJTjsPMdZIw8wOAdi1Vl",
      "authorship_tag": "ABX9TyN8n4sQJIpsAC3/24z0xLtj",
      "include_colab_link": true
    },
    "kernelspec": {
      "name": "python3",
      "display_name": "Python 3"
    },
    "language_info": {
      "name": "python"
    }
  },
  "cells": [
    {
      "cell_type": "markdown",
      "metadata": {
        "id": "view-in-github",
        "colab_type": "text"
      },
      "source": [
        "<a href=\"https://colab.research.google.com/github/adarshgovi/adarshgovi/blob/main/Lab2.ipynb\" target=\"_parent\"><img src=\"https://colab.research.google.com/assets/colab-badge.svg\" alt=\"Open In Colab\"/></a>"
      ]
    },
    {
      "cell_type": "code",
      "execution_count": 29,
      "metadata": {
        "id": "yonI4hTdT2zv"
      },
      "outputs": [],
      "source": [
        "import cv2\n",
        "\n",
        "import matplotlib.pyplot as plt\n",
        "import imutils\n",
        "import numpy"
      ]
    },
    {
      "cell_type": "code",
      "source": [
        "def findLine(vidFrame):\n",
        "  croppedFrame=vidFrame[0:240][200:320]\n",
        "  mask=cv2.cvtColor(croppedFrame,cv2.COLOR_BGR2GRAY)\n",
        "  blurred=cv2.GaussianBlur(mask,(5,5),0)\n",
        "  thresh=cv2.threshold(blurred,60,255,cv2.THRESH_BINARY)[1]\n",
        "  invertedMask=cv2.bitwise_not(thresh)\n",
        "  contours=cv2.findContours(invertedMask.copy(), cv2.RETR_EXTERNAL,cv2.CHAIN_APPROX_SIMPLE)\n",
        "  contours=imutils.grab_contours(contours)\n",
        "\n",
        "  if len(contours)>1:\n",
        "    for c in contours:\n",
        "      M=cv2.moments(c)\n",
        "      if (M[\"m00\"]>0):\n",
        "        cX = int(M[\"m10\"] / M[\"m00\"])\n",
        "        cY = int(M[\"m01\"] / M[\"m00\"])\n",
        "        # draw the contour and center of the shape on the image\n",
        "        cv2.drawContours(vidFrame, [c], -1, (0, 255, 0), 2)\n",
        "        cv2.circle(vidFrame, (cX, cY), 7, (255, 255, 255), -1)\n",
        "        cv2.putText(vidFrame, \"center\", (cX - 20, cY +180), cv2.FONT_HERSHEY_SIMPLEX, 0.5, (255, 255, 255), 2)\n",
        "      else:\n",
        "        cv2.putText(vidFrame,\"div 0 error from moments\", (160,120),cv2.FONT_HERSHEY_SIMPLEX,10,(255,255,255),2)\n",
        "\n",
        "      plt.imshow(vidFrame)\n",
        "\n",
        "  elif len(contours)>0:\n",
        "    biggestContour=max(contours,key=cv2.contourArea)\n",
        "    moments=cv2.moments(biggestContour)\n",
        "    centerX=int(moments[\"m10\"]/moments[\"m00\"])\n",
        "    cv2.drawContours(vidFrame,[biggestContour],-1,(0,255,0),2)\n",
        "    cv2.circle(vidFrame,(centerX,210),20,(255,0,0),-1)\n",
        " \n",
        "  else:\n",
        "    cv2.putText(vidFrame, \"center\", (160,120), cv2.FONT_HERSHEY_SIMPLEX, 0.5, (255, 255, 255), 2)\n",
        "\n",
        "  return vidFrame\n",
        "\n",
        "\n"
      ],
      "metadata": {
        "id": "uKy77E2CjSWX"
      },
      "execution_count": 143,
      "outputs": []
    },
    {
      "cell_type": "code",
      "source": [
        "# Open a video file to read from it:\n",
        "video_name = \"/content/drive/MyDrive/Lab02/raw_video_feed.mp4\"\n",
        "video_reader = cv2.VideoCapture(video_name)\n",
        "ret, frame = video_reader.read()\n",
        "\n",
        "# Create a video file to write to:\n",
        "shape = frame.shape\n",
        "fourcc = cv2.VideoWriter_fourcc(*'MJPG')\n",
        "video_writer = cv2.VideoWriter('output_4.mp4', fourcc, 20, (shape[1], shape[0]))\n",
        "loopCount=0\n",
        "broken=True\n",
        "\n",
        "while ret and broken:\n",
        "  vidFrame=frame\n",
        "  croppedFrame=frame[0:240][200:320] #only look at the lower portion of the image since we want to follow the line there\n",
        "  mask=cv2.cvtColor(croppedFrame,cv2.COLOR_BGR2GRAY) #mask with gray to simplify thresholding\n",
        "  blurred=cv2.GaussianBlur(mask,(5,5),0) #apply a blur to reduce the possibility of noise on edges\n",
        "  thresh=cv2.threshold(blurred,60,255,cv2.THRESH_BINARY)[1] #take only the most prominent shapes(i.e. darkest)\n",
        "  invertedMask=cv2.bitwise_not(thresh) #invert the mask because of how find contours works\n",
        "  contours=cv2.findContours(invertedMask.copy(), cv2.RETR_EXTERNAL,cv2.CHAIN_APPROX_SIMPLE) #locate the contours in the image\n",
        "  contours=imutils.grab_contours(contours)\n",
        "\n",
        "  # if len(contours)>1:\n",
        "  #   for c in contours:\n",
        "  #     M=cv2.moments(c)\n",
        "  #     if (M[\"m00\"]>0):\n",
        "  #       cX = int(M[\"m10\"] / M[\"m00\"])\n",
        "  #       cY = int(M[\"m01\"] / M[\"m00\"])\n",
        "  #       # draw the contour and center of the shape on the image\n",
        "  #       cv2.drawContours(vidFrame, [c], -1, (0, 255, 0), 2)\n",
        "  #       cv2.circle(vidFrame, (cX, cY), 7, (255, 255, 255), -1)\n",
        "  #       cv2.putText(vidFrame, \"center\", (cX - 20, cY +180), cv2.FONT_HERSHEY_SIMPLEX, 0.5, (255, 255, 255), 2)\n",
        "  #     else:\n",
        "  #       cv2.putText(vidFrame,\"div 0 error from moments\", (160,120),cv2.FONT_HERSHEY_SIMPLEX,10,(255,255,255),2)\n",
        "\n",
        "  #     plt.imshow(vidFrame)\n",
        "  #     broken=False\n",
        "\n",
        "  if len(contours)>0:\n",
        "    biggestContour=max(contours,key=cv2.contourArea) #find the biggest contour \n",
        "    moments=cv2.moments(biggestContour) #calculate the moment of inertia from the biggest contour\n",
        "    centerX=int(moments[\"m10\"]/moments[\"m00\"]) #locate the x coordinate of the center of mass\n",
        "    #cv2.drawContours(vidFrame,[biggestContour],-1,(0,255,0),2) # previously outlined the contour, but only needed for testing\n",
        "    prevCenter=centerX #store the most recent center value incase it is needed if the line is lost later\n",
        "    cv2.circle(vidFrame,(centerX,210),20,(255,0,0),-1) #insert the circle at the location that was determined as the center\n",
        " \n",
        "  else:\n",
        "    cv2.circle(vidFrame,(prevCenter,210),20,(255,0,0),-1) #if we don't find a contour, look at history, ideally should use some PID algorithm.\n",
        "  \n",
        "  video_writer.write(vidFrame)\n",
        "  ret, frame=video_reader.read()\n",
        "\n",
        "video_reader.release()\n",
        "video_writer.release()\n",
        "loopCount"
      ],
      "metadata": {
        "colab": {
          "base_uri": "https://localhost:8080/"
        },
        "id": "duWexg-puY2i",
        "outputId": "020b7236-68e5-44e6-eff6-d3b61d43605e"
      },
      "execution_count": 160,
      "outputs": [
        {
          "output_type": "execute_result",
          "data": {
            "text/plain": [
              "0"
            ]
          },
          "metadata": {},
          "execution_count": 160
        }
      ]
    }
  ]
}